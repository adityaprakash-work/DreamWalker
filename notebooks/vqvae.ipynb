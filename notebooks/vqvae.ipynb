{
  "cells": [
    {
      "cell_type": "markdown",
      "metadata": {
        "id": "X69lc2MSX02l"
      },
      "source": [
        "# **DEPENDENCIES**"
      ]
    },
    {
      "cell_type": "code",
      "execution_count": null,
      "metadata": {
        "id": "w5IjxqeIX02n"
      },
      "outputs": [],
      "source": [
        "# Local import\n",
        "# import sys\n",
        "# sys.path.append('..')\n",
        "\n",
        "# pip import on colab\n",
        "!pip install git+https://github.com/adityaprakash-work/DreamWalker.git\n",
        "from google.colab import drive\n",
        "drive.mount('/content/drive')"
      ]
    },
    {
      "cell_type": "code",
      "execution_count": 2,
      "metadata": {
        "id": "gIsK6S8ZX02p"
      },
      "outputs": [],
      "source": [
        "import torch\n",
        "import dreamwalker as dw"
      ]
    },
    {
      "cell_type": "code",
      "execution_count": 3,
      "metadata": {
        "id": "YeMHtPjTX02p"
      },
      "outputs": [],
      "source": [
        "DEVICE = torch.device('cuda' if torch.cuda.is_available() else 'cpu')"
      ]
    },
    {
      "cell_type": "markdown",
      "metadata": {
        "id": "hX4-2rzIX02p"
      },
      "source": [
        "# **DATASET**"
      ]
    },
    {
      "cell_type": "code",
      "execution_count": 4,
      "metadata": {
        "id": "dxTjMB1MX02p",
        "outputId": "05068f63-1d7f-48db-ccf8-59b0c4b1bf49",
        "colab": {
          "base_uri": "https://localhost:8080/"
        }
      },
      "outputs": [
        {
          "output_type": "stream",
          "name": "stdout",
          "text": [
            "Downloading imagenetmini-1000.zip to /content/dataset/imagenetmini-1000\n"
          ]
        },
        {
          "output_type": "stream",
          "name": "stderr",
          "text": [
            "100%|██████████| 3.92G/3.92G [02:31<00:00, 27.9MB/s]\n"
          ]
        },
        {
          "output_type": "stream",
          "name": "stdout",
          "text": [
            "\n"
          ]
        }
      ],
      "source": [
        "# Run this cell to load from an online source\n",
        "dataset_url = \"https://www.kaggle.com/datasets/ifigotin/imagenetmini-1000/data\"\n",
        "dataset_dir = \"/content/dataset\"\n",
        "dw.utils.datasets.download(dataset_url, dataset_dir)"
      ]
    },
    {
      "cell_type": "code",
      "execution_count": null,
      "metadata": {
        "id": "pcbauzUYX02p"
      },
      "outputs": [],
      "source": [
        "train_dir = \"/content/dataset/imagenetmini-1000/imagenet-mini/train\"\n",
        "valid_dir = \"/content/dataset/imagenetmini-1000/imagenet-mini/val\"\n",
        "if valid_dir is None:\n",
        "    dataset = dw.utils.datasets.ImageStream(train_dir, ext=\"JPEG\")\n",
        "    train_loader, valid_loader = dw.utils.datasets.get_loaders(\n",
        "        dataset, return_valid=True, valid_size=0.2\n",
        "    )\n",
        "\n",
        "else:\n",
        "    train_dataset = dw.utils.datasets.ImageStream(train_dir, ext=\"JPEG\")\n",
        "    valid_dataset = dw.utils.datasets.ImageStream(valid_dir, ext=\"JPEG\")\n",
        "    train_loader = dw.utils.datasets.get_loaders(train_dataset)\n",
        "    valid_loader = dw.utils.datasets.get_loaders(valid_dataset)"
      ]
    },
    {
      "cell_type": "markdown",
      "metadata": {
        "id": "9adJnFw7X02q"
      },
      "source": [
        "# **TRAINING**"
      ]
    },
    {
      "cell_type": "code",
      "execution_count": null,
      "metadata": {
        "id": "pePwefqnX02q"
      },
      "outputs": [],
      "source": [
        "load_path = None\n",
        "save_path = None\n",
        "\n",
        "if load_path is None:\n",
        "    model = dw.models.vqvae.ResVQVAE()\n",
        "    optimizer = torch.optim.Adam(model.parameters(), lr=1e-3)\n",
        "\n",
        "    trainer = dw.models.vqvae.VQVAETrainerTrainer(\n",
        "        model,\n",
        "        optimizer,\n",
        "        train_loader,\n",
        "        valid_loader,\n",
        "        device=DEVICE,\n",
        "        load_checkpoint_path=None,\n",
        "    )\n",
        "else:\n",
        "    trainer = dw.models.vqvae.VQVAETrainerTrainer(\n",
        "        train_loader=train_loader,\n",
        "        valid_loader=valid_loader,\n",
        "        device=DEVICE,\n",
        "        load_checkpoint_path=load_path,\n",
        "    )"
      ]
    },
    {
      "cell_type": "code",
      "execution_count": null,
      "metadata": {
        "id": "0rQbLcAqX02q"
      },
      "outputs": [],
      "source": [
        "epochs = 100\n",
        "monitors = [dw.utils.training.BestModelCheckpoint(save_path=save_path)]\n",
        "\n",
        "trainer.train(epochs, monitors=monitors)"
      ]
    }
  ],
  "metadata": {
    "kernelspec": {
      "display_name": "Python 3",
      "name": "python3"
    },
    "language_info": {
      "codemirror_mode": {
        "name": "ipython",
        "version": 3
      },
      "file_extension": ".py",
      "mimetype": "text/x-python",
      "name": "python",
      "nbconvert_exporter": "python",
      "pygments_lexer": "ipython3",
      "version": "3.11.3"
    },
    "colab": {
      "provenance": [],
      "gpuType": "T4"
    },
    "accelerator": "GPU"
  },
  "nbformat": 4,
  "nbformat_minor": 0
}