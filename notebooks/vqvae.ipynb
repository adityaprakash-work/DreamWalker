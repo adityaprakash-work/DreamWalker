{
 "cells": [
  {
   "cell_type": "markdown",
   "metadata": {},
   "source": [
    "# **DEPENDENCIES**"
   ]
  },
  {
   "cell_type": "code",
   "execution_count": 7,
   "metadata": {},
   "outputs": [],
   "source": [
    "# Local import\n",
    "import sys\n",
    "sys.path.append('..')\n",
    "\n",
    "# pip import on colab\n",
    "# !pip install git+https://github.com/adityaprakash-work/DreamWalker.git\n",
    "# from google.colab import drive\n",
    "# drive.mount('/content/drive')\n",
    "\n",
    "import dreamwalker as dw"
   ]
  },
  {
   "cell_type": "code",
   "execution_count": null,
   "metadata": {},
   "outputs": [],
   "source": [
    "import torch"
   ]
  },
  {
   "cell_type": "code",
   "execution_count": null,
   "metadata": {},
   "outputs": [],
   "source": [
    "DEVICE = torch.device('cuda' if torch.cuda.is_available() else 'cpu')"
   ]
  },
  {
   "cell_type": "markdown",
   "metadata": {},
   "source": [
    "# **DATASET**"
   ]
  },
  {
   "cell_type": "code",
   "execution_count": null,
   "metadata": {},
   "outputs": [],
   "source": [
    "# Run this cell to load from an online source\n",
    "dataset_url = None\n",
    "dataset_dir = None\n",
    "dw.utils.datasets.download(dataset_url, dataset_dir)"
   ]
  },
  {
   "cell_type": "code",
   "execution_count": null,
   "metadata": {},
   "outputs": [],
   "source": [
    "train_dir = None\n",
    "valid_dir = None\n",
    "if valid_dir is None:\n",
    "    dataset = dw.utils.datasets.ImageStream(train_dir)\n",
    "    train_loader, valid_loader = dw.utils.datasets.get_loaders(\n",
    "        dataset, return_valid=True, valid_size=0.2\n",
    "    )\n",
    "\n",
    "else:\n",
    "    train_dataset = dw.utils.datasets.ImageStream(train_dir)\n",
    "    valid_dataset = dw.utils.datasets.ImageStream(valid_dir)\n",
    "    train_loader = dw.utils.datasets.get_loader(train_dataset)\n",
    "    valid_loader = dw.utils.datasets.get_loader(valid_dataset)"
   ]
  },
  {
   "cell_type": "markdown",
   "metadata": {},
   "source": [
    "# **TRAINING**"
   ]
  },
  {
   "cell_type": "code",
   "execution_count": null,
   "metadata": {},
   "outputs": [],
   "source": [
    "load_path = None\n",
    "save_path = None\n",
    "\n",
    "if load_path is None:\n",
    "    model = dw.models.vqvae.ResVQVAE()\n",
    "    optimizer = torch.optim.Adam(model.parameters(), lr=1e-3)\n",
    "\n",
    "    trainer = dw.models.vqvae.VQVAETrainerTrainer(\n",
    "        model,\n",
    "        optimizer,\n",
    "        train_loader,\n",
    "        valid_loader,\n",
    "        device=DEVICE,\n",
    "        load_checkpoint_path=None,\n",
    "    )\n",
    "else:\n",
    "    trainer = dw.models.vqvae.VQVAETrainerTrainer(\n",
    "        train_loader=train_loader,\n",
    "        valid_loader=valid_loader,\n",
    "        device=DEVICE, \n",
    "        load_checkpoint_path=load_path,\n",
    "    )"
   ]
  },
  {
   "cell_type": "code",
   "execution_count": null,
   "metadata": {},
   "outputs": [],
   "source": [
    "epochs = 100\n",
    "monitors = [dw.utils.training.BestModelCheckpoint(save_path=save_path)]\n",
    "\n",
    "trainer.train(epochs, monitors=monitors)"
   ]
  }
 ],
 "metadata": {
  "kernelspec": {
   "display_name": "Python 3",
   "language": "python",
   "name": "python3"
  },
  "language_info": {
   "codemirror_mode": {
    "name": "ipython",
    "version": 3
   },
   "file_extension": ".py",
   "mimetype": "text/x-python",
   "name": "python",
   "nbconvert_exporter": "python",
   "pygments_lexer": "ipython3",
   "version": "3.11.3"
  }
 },
 "nbformat": 4,
 "nbformat_minor": 2
}
