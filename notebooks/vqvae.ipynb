{
  "cells": [
    {
      "cell_type": "markdown",
      "metadata": {
        "id": "X69lc2MSX02l"
      },
      "source": [
        "# **DEPENDENCIES**"
      ]
    },
    {
      "cell_type": "code",
      "execution_count": null,
      "metadata": {
        "id": "w5IjxqeIX02n"
      },
      "outputs": [],
      "source": [
        "# Local import\n",
        "# import sys\n",
        "# sys.path.append('..')\n",
        "\n",
        "# Import on colab\n",
        "!pip install git+https://github.com/adityaprakash-work/DreamWalker.git\n",
        "\n",
        "from google.colab import drive\n",
        "drive.mount('/content/drive')"
      ]
    },
    {
      "cell_type": "code",
      "execution_count": 2,
      "metadata": {
        "id": "gIsK6S8ZX02p"
      },
      "outputs": [],
      "source": [
        "import torch\n",
        "import dreamwalker as dw"
      ]
    },
    {
      "cell_type": "code",
      "execution_count": 3,
      "metadata": {
        "id": "YeMHtPjTX02p"
      },
      "outputs": [],
      "source": [
        "DEVICE = torch.device('cuda' if torch.cuda.is_available() else 'cpu')"
      ]
    },
    {
      "cell_type": "markdown",
      "metadata": {
        "id": "hX4-2rzIX02p"
      },
      "source": [
        "# **DATASET**"
      ]
    },
    {
      "cell_type": "code",
      "execution_count": 5,
      "metadata": {
        "colab": {
          "base_uri": "https://localhost:8080/"
        },
        "id": "dxTjMB1MX02p",
        "outputId": "bf82d3fc-7623-4571-bfdc-b874bf03aab9"
      },
      "outputs": [
        {
          "metadata": {
            "tags": null
          },
          "name": "stdout",
          "output_type": "stream",
          "text": [
            "Downloading imagenetmini-1000.zip to /content/dataset/imagenetmini-1000\n"
          ]
        },
        {
          "metadata": {
            "tags": null
          },
          "name": "stderr",
          "output_type": "stream",
          "text": [
            "100%|██████████| 3.92G/3.92G [00:44<00:00, 95.3MB/s]\n"
          ]
        },
        {
          "metadata": {
            "tags": null
          },
          "name": "stdout",
          "output_type": "stream",
          "text": [
            "\n"
          ]
        }
      ],
      "source": [
        "# Run this cell to load from an online source\n",
        "dataset_url = \"https://www.kaggle.com/datasets/ifigotin/imagenetmini-1000/data\"\n",
        "dataset_dir = \"/content/dataset\"\n",
        "dw.utils.datasets.download(dataset_url, dataset_dir)"
      ]
    },
    {
      "cell_type": "code",
      "execution_count": 16,
      "metadata": {
        "id": "pcbauzUYX02p"
      },
      "outputs": [],
      "source": [
        "train_dir = \"/content/dataset/imagenetmini-1000/imagenet-mini/train\"\n",
        "valid_dir = \"/content/dataset/imagenetmini-1000/imagenet-mini/val\"\n",
        "if valid_dir is None:\n",
        "    dataset = dw.utils.datasets.ImageStream(train_dir, ext=\"JPEG\")\n",
        "    train_loader, valid_loader = dw.utils.datasets.get_loaders(\n",
        "        dataset, return_valid=True, valid_size=0.2\n",
        "    )\n",
        "\n",
        "else:\n",
        "    train_dataset = dw.utils.datasets.ImageStream(train_dir, ext=\"JPEG\")\n",
        "    valid_dataset = dw.utils.datasets.ImageStream(valid_dir, ext=\"JPEG\")\n",
        "    train_loader = dw.utils.datasets.get_loaders(train_dataset, batch_size=16)\n",
        "    valid_loader = dw.utils.datasets.get_loaders(valid_dataset, batch_size=16)"
      ]
    },
    {
      "cell_type": "code",
      "source": [
        "for data, _ in train_loader:\n",
        "    print(data.shape)\n",
        "    break"
      ],
      "metadata": {
        "id": "dL1XD_lcrykg",
        "outputId": "9c5f6e3b-aefa-470a-f8bd-04a973bb943d",
        "colab": {
          "base_uri": "https://localhost:8080/"
        }
      },
      "execution_count": 17,
      "outputs": [
        {
          "output_type": "stream",
          "name": "stdout",
          "text": [
            "torch.Size([16, 3, 128, 128])\n"
          ]
        }
      ]
    },
    {
      "cell_type": "markdown",
      "metadata": {
        "id": "9adJnFw7X02q"
      },
      "source": [
        "# **TRAINING**"
      ]
    },
    {
      "cell_type": "code",
      "execution_count": 18,
      "metadata": {
        "id": "pePwefqnX02q"
      },
      "outputs": [],
      "source": [
        "load_path = None\n",
        "save_path = \"/content/checkpoints/vqvae0.pth\"\n",
        "\n",
        "if load_path is None:\n",
        "    model = dw.models.vqvae.ResVQVAE()\n",
        "    optimizer = torch.optim.Adam(model.parameters(), lr=1e-3)\n",
        "\n",
        "    trainer = dw.models.vqvae.VQVAETrainer(\n",
        "        model,\n",
        "        optimizer,\n",
        "        train_loader,\n",
        "        valid_loader,\n",
        "        device=DEVICE,\n",
        "        load_checkpoint_path=None,\n",
        "    )\n",
        "else:\n",
        "    trainer = dw.models.vqvae.VQVAETrainer(\n",
        "        train_loader=train_loader,\n",
        "        valid_loader=valid_loader,\n",
        "        device=DEVICE,\n",
        "        load_checkpoint_path=load_path,\n",
        "    )"
      ]
    },
    {
      "cell_type": "code",
      "execution_count": null,
      "metadata": {
        "id": "0rQbLcAqX02q"
      },
      "outputs": [],
      "source": [
        "epochs = 100\n",
        "monitors = [dw.utils.training.BestModelCheckpoint(save_path=save_path)]\n",
        "\n",
        "trainer.train(epochs, monitors=monitors)"
      ]
    }
  ],
  "metadata": {
    "accelerator": "GPU",
    "colab": {
      "gpuType": "T4",
      "provenance": []
    },
    "kernelspec": {
      "display_name": "Python 3",
      "name": "python3"
    },
    "language_info": {
      "codemirror_mode": {
        "name": "ipython",
        "version": 3
      },
      "file_extension": ".py",
      "mimetype": "text/x-python",
      "name": "python",
      "nbconvert_exporter": "python",
      "pygments_lexer": "ipython3",
      "version": "3.11.3"
    }
  },
  "nbformat": 4,
  "nbformat_minor": 0
}