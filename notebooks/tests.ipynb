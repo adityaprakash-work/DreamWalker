{
 "cells": [
  {
   "cell_type": "code",
   "execution_count": 1,
   "metadata": {},
   "outputs": [],
   "source": [
    "import sys\n",
    "sys.path.append('..')\n",
    "\n",
    "import dreamwalker as dw"
   ]
  },
  {
   "cell_type": "code",
   "execution_count": 6,
   "metadata": {},
   "outputs": [],
   "source": [
    "from torch.utils.data import DataLoader"
   ]
  },
  {
   "cell_type": "code",
   "execution_count": 27,
   "metadata": {},
   "outputs": [
    {
     "name": "stdout",
     "output_type": "stream",
     "text": [
      "torch.Size([2, 3, 128, 128])\n",
      "torch.Size([2, 3, 128, 128])\n",
      "torch.Size([2, 3, 128, 128])\n"
     ]
    }
   ],
   "source": [
    "train_dataset = dw.utils.datasets.ImageStream(\n",
    "    \"C:/Users/adity/OneDrive/Desktop/dataset\",\n",
    "    ext=\"JPEG\",\n",
    ")\n",
    "\n",
    "train_loader = dw.utils.datasets.get_loaders(\n",
    "    train_dataset,\n",
    "    batch_size=2,\n",
    "    num_workers=4,\n",
    ")\n",
    "\n",
    "for batch, _ in train_loader:\n",
    "    print(batch.shape)"
   ]
  },
  {
   "cell_type": "code",
   "execution_count": null,
   "metadata": {},
   "outputs": [],
   "source": [
    "load_path = None\n",
    "save_path = None\n",
    "\n",
    "if load_path is None:\n",
    "    model = dw.models.vqvae.ResVQVAE()\n",
    "    optimizer = torch.optim.Adam(model.parameters(), lr=1e-3)\n",
    "\n",
    "    trainer = dw.models.vqvae.VQVAETrainer(\n",
    "        model,\n",
    "        optimizer,\n",
    "        train_loader,\n",
    "        valid_loader,\n",
    "        device=DEVICE,\n",
    "        load_checkpoint_path=None,\n",
    "    )\n",
    "else:\n",
    "    trainer = dw.models.vqvae.VQVAETrainer(\n",
    "        train_loader=train_loader,\n",
    "        valid_loader=valid_loader,\n",
    "        device=DEVICE,\n",
    "        load_checkpoint_path=load_path,\n",
    "    )"
   ]
  }
 ],
 "metadata": {
  "kernelspec": {
   "display_name": "Python 3",
   "language": "python",
   "name": "python3"
  },
  "language_info": {
   "codemirror_mode": {
    "name": "ipython",
    "version": 3
   },
   "file_extension": ".py",
   "mimetype": "text/x-python",
   "name": "python",
   "nbconvert_exporter": "python",
   "pygments_lexer": "ipython3",
   "version": "3.11.3"
  }
 },
 "nbformat": 4,
 "nbformat_minor": 2
}
